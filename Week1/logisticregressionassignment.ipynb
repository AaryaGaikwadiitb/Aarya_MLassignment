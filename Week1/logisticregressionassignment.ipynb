{
  "nbformat": 4,
  "nbformat_minor": 0,
  "metadata": {
    "colab": {
      "provenance": [],
      "gpuType": "T4"
    },
    "kernelspec": {
      "name": "python3",
      "display_name": "Python 3"
    },
    "language_info": {
      "name": "python"
    },
    "accelerator": "GPU"
  },
  "cells": [
    {
      "cell_type": "markdown",
      "source": [
        "##ASSIGNMENT\n",
        "#Dataset\n",
        "Assume you are a scientist who is trying to make a propellent and is trying many tests to make an efficient propellent .\n",
        "<br>\n",
        "You have performed two tests.\n",
        "<br>\n",
        "From the two tests you would like whether this propellent works efficiently or not.\n",
        "Build your own logistic regression model to decide .\n",
        "<br>\n",
        "Text with \"DO NOT EDIT THIS CODE\" needs to be only run do not edit it\n"
      ],
      "metadata": {
        "id": "wNEUsAHHCGk2"
      }
    },
    {
      "cell_type": "code",
      "execution_count": 43,
      "metadata": {
        "id": "xJm_XXJo4RDg"
      },
      "outputs": [],
      "source": [
        "#import libraries\n",
        "#write your code.\n",
        "import numpy as np\n",
        "import pandas as pd\n",
        "import matplotlib.pyplot as plt\n",
        "import math\n"
      ]
    },
    {
      "cell_type": "code",
      "source": [
        "#load data\n",
        "data=pd.read_csv('/content/drive/MyDrive/Aarya ML LS submission/Week1/LogisticRegression/data (1).txt')\n",
        "#write your code\n",
        "X_train=np.array(data.iloc[:,:2])\n",
        "y_train=np.array(data.iloc[:,2])\n",
        "\n",
        "\n"
      ],
      "metadata": {
        "id": "YtL0jW6m4e1A"
      },
      "execution_count": 18,
      "outputs": []
    },
    {
      "cell_type": "code",
      "source": [
        "from google.colab import drive\n",
        "drive.mount('/content/drive')"
      ],
      "metadata": {
        "colab": {
          "base_uri": "https://localhost:8080/"
        },
        "id": "R7mw46g1nnkX",
        "outputId": "6cd365f5-6d06-4978-e4d8-827ef189439e"
      },
      "execution_count": 2,
      "outputs": [
        {
          "output_type": "stream",
          "name": "stdout",
          "text": [
            "Drive already mounted at /content/drive; to attempt to forcibly remount, call drive.mount(\"/content/drive\", force_remount=True).\n"
          ]
        }
      ]
    },
    {
      "cell_type": "code",
      "source": [
        "#plot data to visualise\n",
        "def plot_data(X,y,positive_label=\"y=1\", negative_label=\"y=0\"):\n",
        "    # plt.scatter(X[:,0],X[:,1],c=y)\n",
        "    pos = y == 1\n",
        "    neg = y == 0\n",
        "    plt.scatter(X[pos, 0], X[pos, 1], marker='o', c='b', label=positive_label)\n",
        "\n",
        "    # Plot negative examples\n",
        "    plt.scatter(X[neg, 0], X[neg, 1], marker='x', c='r', label=negative_label)\n",
        "\n"
      ],
      "metadata": {
        "id": "Bk2qYHyk4mNm"
      },
      "execution_count": 23,
      "outputs": []
    },
    {
      "cell_type": "code",
      "source": [
        "plot_data(X_train, y_train[:])\n",
        "\n",
        "\n",
        "plt.xlabel('Test 2')\n",
        "plt.ylabel('Test 1')\n",
        "plt.legend(loc=\"upper right\")\n",
        "plt.show()"
      ],
      "metadata": {
        "id": "RzsMdrwv58tQ",
        "colab": {
          "base_uri": "https://localhost:8080/",
          "height": 449
        },
        "outputId": "0852ff42-00ef-45e5-a06e-7f7312a497c9"
      },
      "execution_count": 24,
      "outputs": [
        {
          "output_type": "display_data",
          "data": {
            "text/plain": [
              "<Figure size 640x480 with 1 Axes>"
            ],
            "image/png": "[encoded data removed]"
          },
          "metadata": {}
        }
      ]
    },
    {
      "cell_type": "code",
      "source": [
        "#feature mapping\n",
        "def map_feature(X1,X2):\n",
        "#write your code\n",
        "     X1=np.atleast_1d(X1)\n",
        "     X2=np.atleast_1d(X2)\n",
        "     degree=4\n",
        "     out=[]\n",
        "     for i in range(1,degree+1):\n",
        "       for j in range(i+1):\n",
        "         out.append((X1**(i-j) * (X2**j)))\n",
        "     return np.stack(out, axis=1)\n",
        "\n",
        "\n",
        "\n"
      ],
      "metadata": {
        "id": "KhRBdaFi6nKo"
      },
      "execution_count": 47,
      "outputs": []
    },
    {
      "cell_type": "code",
      "source": [
        "print(\"Original shape of data:\", X_train.shape)\n",
        "\n",
        "mapped_X =  map_feature(X_train[:, 0], X_train[:, 1])\n",
        "print(\"Shape after feature mapping:\", mapped_X.shape)"
      ],
      "metadata": {
        "id": "PNS4kJfq6_m8",
        "colab": {
          "base_uri": "https://localhost:8080/"
        },
        "outputId": "36bc3bf1-3951-489c-f70c-7562545f89fb"
      },
      "execution_count": 48,
      "outputs": [
        {
          "output_type": "stream",
          "name": "stdout",
          "text": [
            "Original shape of data: (117, 2)\n",
            "Shape after feature mapping: (117, 14)\n"
          ]
        }
      ]
    },
    {
      "cell_type": "code",
      "source": [
        "# @title DO NOT EDIT THIS CODE\n",
        "def sigmoid_test(target):\n",
        "    assert np.isclose(target(3.0), 0.9525741268224334), \"Failed for scalar input\"\n",
        "    assert np.allclose(target(np.array([2.5, 0])), [0.92414182, 0.5]), \"Failed for 1D array\"\n",
        "    assert np.allclose(target(np.array([[2.5, -2.5], [0, 1]])),\n",
        "                       [[0.92414182, 0.07585818], [0.5, 0.73105858]]), \"Failed for 2D array\"\n",
        "    print('\\033[92mTests passed!')"
      ],
      "metadata": {
        "id": "BqlxZOXoHh4z",
        "cellView": "form"
      },
      "execution_count": null,
      "outputs": []
    },
    {
      "cell_type": "code",
      "source": [
        "#sigmoid function\n",
        "def sigmoid(z):\n",
        "#write your code\n",
        "  sigma=1/(1+np.exp(-z))\n",
        "  return sigma\n",
        "\n",
        "\n"
      ],
      "metadata": {
        "id": "wdgE-ay07C0P"
      },
      "execution_count": 49,
      "outputs": []
    },
    {
      "cell_type": "code",
      "source": [
        "# @title DO NOT EDIT THIS CODE\n",
        "def compute_cost_test(target):\n",
        "    X = np.array([[0, 0, 0, 0]]).T\n",
        "    y = np.array([0, 0, 0, 0])\n",
        "    w = np.array([0])\n",
        "    b = 1\n",
        "    result = target(X, y, w, b)\n",
        "    if math.isinf(result):\n",
        "        raise ValueError(\"Did you get the sigmoid of z_wb?\")\n",
        "\n",
        "    np.random.seed(17)\n",
        "    X = np.random.randn(5, 2)\n",
        "    y = np.array([1, 0, 0, 1, 1])\n",
        "    w = np.random.randn(2)\n",
        "    b = 0\n",
        "    result = target(X, y, w, b)\n",
        "    assert np.isclose(result, 2.15510667), f\"Wrong output. Expected: {2.15510667} got: {result}\"\n",
        "\n",
        "    X = np.random.randn(4, 3)\n",
        "    y = np.array([1, 1, 0, 0])\n",
        "    w = np.random.randn(3)\n",
        "    b = 0\n",
        "\n",
        "    result = target(X, y, w, b)\n",
        "    assert np.isclose(result, 0.80709376), f\"Wrong output. Expected: {0.80709376} got: {result}\"\n",
        "\n",
        "    X = np.random.randn(4, 3)\n",
        "    y = np.array([1, 0,1, 0])\n",
        "    w = np.random.randn(3)\n",
        "    b = 3\n",
        "    result = target(X, y, w, b)\n",
        "    assert np.isclose(result, 0.4529660647), f\"Wrong output. Expected: {0.4529660647} got: {result}. Did you inizialized z_wb = b?\"\n",
        "\n",
        "    print('\\033[92mTests passed!')"
      ],
      "metadata": {
        "id": "QLqfyxPrH-v-"
      },
      "execution_count": 50,
      "outputs": []
    },
    {
      "cell_type": "code",
      "source": [
        "#computing cost\n",
        "def compute_cost(X,y,w,b,lambda_=1):\n",
        "#write your code\n",
        "  z=np.dot(X,w)+b\n",
        "  f_wb=sigmoid(z)\n",
        "  total_cost=0\n",
        "  m=X.shape[0]\n",
        "  for i in range(len(y)):\n",
        "    if f_wb[i]==0 or f_wb[i]==1:\n",
        "      total_cost+=0\n",
        "    else:\n",
        "      total_cost=total_cost+(-y[i]*np.log(f_wb[i])-(1-y[i])*np.log(1-f_wb[i]))/m\n",
        "\n",
        "\n",
        "\n",
        "\n",
        "  return total_cost"
      ],
      "metadata": {
        "id": "PRIqcpJ17MzH"
      },
      "execution_count": 53,
      "outputs": []
    },
    {
      "cell_type": "code",
      "source": [
        "test_w = np.array([0.2, 0.2])\n",
        "test_b = -24.\n",
        "cost = compute_cost(X_train, y_train, test_w, test_b)\n",
        "\n",
        "print('Cost at test w,b: {:.3f}'.format(cost))\n",
        "\n",
        "\n",
        "# test\n",
        "compute_cost_test(compute_cost)"
      ],
      "metadata": {
        "id": "MPOvLzL5H5-5",
        "colab": {
          "base_uri": "https://localhost:8080/"
        },
        "outputId": "1dd1ce89-ffbb-4819-df27-f22fff9c8acb"
      },
      "execution_count": 54,
      "outputs": [
        {
          "output_type": "stream",
          "name": "stdout",
          "text": [
            "Cost at test w,b: 11.673\n",
            "\u001b[92mTests passed!\n"
          ]
        }
      ]
    },
    {
      "cell_type": "code",
      "source": [
        "#compute regularised cost\n",
        "def compute_cost_reg(X, y, w, b, lambda_ = 1):\n",
        "#write your code\n",
        "    m = X.shape[0]\n",
        "    z = X.dot(w) + b\n",
        "    predictions = sigmoid(z)\n",
        "    cost = (-1 / m) * np.sum(y * np.log(predictions) + (1 - y) * np.log(1 - predictions))\n",
        "    reg_cost = (lambda_ / (2 * m)) * np.sum(w ** 2)\n",
        "    total_cost = cost + reg_cost\n",
        "    return total_cost\n",
        "\n",
        "\n",
        "\n",
        "\n",
        "    return total_cost"
      ],
      "metadata": {
        "id": "ULkWUBkO7ffh"
      },
      "execution_count": 57,
      "outputs": []
    },
    {
      "cell_type": "code",
      "source": [
        "# @title DO NOT EDIT THIS CODE\n",
        "def compute_cost_reg_test(target):\n",
        "    np.random.seed(1)\n",
        "    w = np.random.randn(3)\n",
        "    b = 0.4\n",
        "    X = np.random.randn(6, 3)\n",
        "    y = np.array([0, 1, 1, 0, 1, 1])\n",
        "    lambda_ = 0.1\n",
        "    expected_output = target(X, y, w, b, lambda_)\n",
        "\n",
        "    assert np.isclose(expected_output, 0.5469746792761936), f\"Wrong output. Expected: {0.5469746792761936} got:{expected_output}\"\n",
        "\n",
        "    w = np.random.randn(5)\n",
        "    b = -0.6\n",
        "    X = np.random.randn(8, 5)\n",
        "    y = np.array([1, 0, 1, 0, 0, 1, 0, 1])\n",
        "    lambda_ = 0.01\n",
        "    output = target(X, y, w, b, lambda_)\n",
        "    assert np.isclose(output, 1.2608591964119995), f\"Wrong output. Expected: {1.2608591964119995} got:{output}\"\n",
        "\n",
        "    w = np.array([2, 2, 2, 2, 2])\n",
        "    b = 0\n",
        "    X = np.zeros((8, 5))\n",
        "    y = np.array([0.5] * 8)\n",
        "    lambda_ = 3\n",
        "    output = target(X, y, w, b, lambda_)\n",
        "    expected = -np.log(0.5) + 3. / (2. * 8.) * 20.\n",
        "    assert np.isclose(output, expected), f\"Wrong output. Expected: {expected} got:{output}\"\n",
        "\n",
        "    print('\\033[92mAll tests passed!')"
      ],
      "metadata": {
        "id": "OhFbPakDGKQj"
      },
      "execution_count": 58,
      "outputs": []
    },
    {
      "cell_type": "code",
      "source": [
        "X_mapped = map_feature(X_train[:, 0], X_train[:, 1])\n",
        "np.random.seed(1)\n",
        "initial_w = np.random.rand(X_mapped.shape[1]) - 0.5\n",
        "initial_b = 0.5\n",
        "lambda_ = 0.5\n",
        "cost = compute_cost_reg(X_mapped, y_train, initial_w, initial_b, lambda_)\n",
        "\n",
        "print(\"Regularised cost :\", cost)\n",
        "\n",
        "#test\n",
        "compute_cost_reg_test(compute_cost_reg)"
      ],
      "metadata": {
        "id": "jO14e7OD7syR",
        "colab": {
          "base_uri": "https://localhost:8080/"
        },
        "outputId": "78ed79ba-169c-41be-a554-b6029a1b2fc5"
      },
      "execution_count": 59,
      "outputs": [
        {
          "output_type": "stream",
          "name": "stdout",
          "text": [
            "Regularised cost : 0.6878624339241347\n",
            "\u001b[92mAll tests passed!\n"
          ]
        }
      ]
    },
    {
      "cell_type": "code",
      "source": [
        "# @title DO NOT EDIT THIS CODE\n",
        "def compute_gradient_test(target):\n",
        "    np.random.seed(1)\n",
        "    X = np.random.randn(7, 3)\n",
        "    y = np.array([1, 0, 1, 0, 1, 1, 0])\n",
        "    test_w = np.array([1, 0.5, -0.35])\n",
        "    test_b = 1.7\n",
        "    dj_db, dj_dw  = target(X, y, test_w, test_b)\n",
        "\n",
        "    assert np.isclose(dj_db, 0.28936094), f\"Wrong value for dj_db. Expected: {0.28936094} got: {dj_db}\"\n",
        "    assert dj_dw.shape == test_w.shape, f\"Wrong shape for dj_dw. Expected: {test_w.shape} got: {dj_dw.shape}\"\n",
        "    assert np.allclose(dj_dw, [-0.11999166, 0.41498775, -0.71968405]), f\"Wrong values for dj_dw. Got: {dj_dw}\"\n",
        "\n",
        "    print('\\033[92mTests passed!')"
      ],
      "metadata": {
        "id": "plQBUPM2IRei"
      },
      "execution_count": 62,
      "outputs": []
    },
    {
      "cell_type": "code",
      "source": [
        "#compute gradient\n",
        "def compute_gradient(X, y, w, b, lambda_=None):\n",
        "#write your code\n",
        "    n= X.shape[0]\n",
        "    z = np.dot(X,w)+ b\n",
        "    f_wb= sigmoid(z)\n",
        "    error = f_wb- y\n",
        "    dj_dw = (1 / n) * np.dot(X.T,error)\n",
        "    dj_db = (1 / n) * np.sum(error)\n",
        "    return dj_db, dj_dw\n",
        "\n",
        "\n",
        "    return dj_db,dj_dw"
      ],
      "metadata": {
        "id": "v27SzhYX8-ug"
      },
      "execution_count": 64,
      "outputs": []
    },
    {
      "cell_type": "code",
      "source": [
        "test_w = np.array([ 0.2, -0.5])\n",
        "test_b = -24\n",
        "dj_db, dj_dw  = compute_gradient(X_train, y_train, test_w, test_b)\n",
        "\n",
        "print('dj_db at test_w:', dj_db)\n",
        "print('dj_dw at test_w:', dj_dw.tolist())\n",
        "\n",
        "# test\n",
        "compute_gradient_test(compute_gradient)"
      ],
      "metadata": {
        "id": "WLmFL2yuIPUA",
        "colab": {
          "base_uri": "https://localhost:8080/"
        },
        "outputId": "e21a9e1e-4cff-4ba8-9c28-84ed255e03eb"
      },
      "execution_count": 65,
      "outputs": [
        {
          "output_type": "stream",
          "name": "stdout",
          "text": [
            "dj_db at test_w: -0.4871794871430757\n",
            "dj_dw at test_w: [-0.008236697431387122, -0.08627568375931736]\n",
            "\u001b[92mTests passed!\n"
          ]
        }
      ]
    },
    {
      "cell_type": "code",
      "source": [
        "#compute regularised gradient\n",
        "def compute_gradient_reg(X, y, w, b, lambda_=1):\n",
        "#write your code\n",
        "    n= X.shape[0]\n",
        "    z = np.dot(X,w)+ b\n",
        "    f_wb= sigmoid(z)\n",
        "    error = f_wb- y\n",
        "    dj_dw = (1 / n) *np.dot(X.T,error)+ (lambda_ / n) * w\n",
        "    dj_db = (1 / n) * np.sum(error)\n",
        "\n",
        "    return dj_db, dj_dw\n",
        "\n",
        "\n",
        "\n",
        "    return dj_db,dj_dw"
      ],
      "metadata": {
        "id": "TGfUArz09TMl"
      },
      "execution_count": 66,
      "outputs": []
    },
    {
      "cell_type": "code",
      "source": [
        "# @title DO NOT EDIT THIS CODE\n",
        "def compute_gradient_reg_test(target):\n",
        "    np.random.seed(1)\n",
        "    w = np.random.randn(5)\n",
        "    b = 0.2\n",
        "    X = np.random.randn(7, 5)\n",
        "    y = np.array([0, 1, 1, 0, 1, 1, 0])\n",
        "    lambda_ = 0.1\n",
        "    expected1 = (-0.1506447567869257, np.array([ 0.19530838, -0.00632206,  0.19687367,  0.15741161,  0.02791437]))\n",
        "    dj_db, dj_dw = target(X, y, w, b, lambda_)\n",
        "\n",
        "    assert np.isclose(dj_db, expected1[0]), f\"Wrong dj_db. Expected: {expected1[0]} got: {dj_db}\"\n",
        "    assert np.allclose(dj_dw, expected1[1]), f\"Wrong dj_dw. Expected: {expected1[1]} got: {dj_dw}\"\n",
        "\n",
        "\n",
        "    w = np.random.randn(7)\n",
        "    b = 0\n",
        "    X = np.random.randn(7, 7)\n",
        "    y = np.array([1, 0, 0, 0, 1, 1, 0])\n",
        "    lambda_ = 0\n",
        "    expected2 = (0.02660329857573818, np.array([ 0.23567643, -0.06921029, -0.19705212, -0.0002884 ,  0.06490588,\n",
        "        0.26948175,  0.10777992]))\n",
        "    dj_db, dj_dw = target(X, y, w, b, lambda_)\n",
        "    assert np.isclose(dj_db, expected2[0]), f\"Wrong dj_db. Expected: {expected2[0]} got: {dj_db}\"\n",
        "    assert np.allclose(dj_dw, expected2[1]), f\"Wrong dj_dw. Expected: {expected2[1]} got: {dj_dw}\"\n",
        "\n",
        "    print('\\033[92mTests passed!')"
      ],
      "metadata": {
        "id": "KNRCWIc8G2cp",
        "cellView": "form"
      },
      "execution_count": 68,
      "outputs": []
    },
    {
      "cell_type": "code",
      "source": [
        "X_mapped = map_feature(X_train[:, 0], X_train[:, 1])\n",
        "np.random.seed(1)\n",
        "initial_w  = np.random.rand(X_mapped.shape[1]) - 0.5\n",
        "initial_b = 0.5\n",
        "\n",
        "lambda_ = 0.5\n",
        "dj_db, dj_dw = compute_gradient_reg(X_mapped, y_train, initial_w, initial_b, lambda_)\n",
        "\n",
        "print(f\"dj_db: {dj_db}\" )\n",
        "#test\n",
        "compute_gradient_reg_test(compute_gradient_reg)"
      ],
      "metadata": {
        "id": "3_of_BHJ9hEc",
        "colab": {
          "base_uri": "https://localhost:8080/"
        },
        "outputId": "0f42b7ed-7edc-4269-b239-4c3bd75a076a"
      },
      "execution_count": 69,
      "outputs": [
        {
          "output_type": "stream",
          "name": "stdout",
          "text": [
            "dj_db: 0.09598731780418102\n",
            "\u001b[92mTests passed!\n"
          ]
        }
      ]
    },
    {
      "cell_type": "code",
      "source": [
        "np.random.seed(1)\n",
        "initial_w = np.random.rand(X_mapped.shape[1])-0.5\n",
        "initial_b = 1.\n",
        "lambda_ = 0.01\n",
        "iterations = 10000\n",
        "alpha = 0.01\n",
        "\n",
        "def gradient_descent(X_mapped, y_train, initial_w, initial_b,\n",
        "                                    compute_cost_reg, compute_gradient_reg,\n",
        "                                    alpha, iterations, lambda_):\n",
        "    w = initial_w\n",
        "    b = initial_b\n",
        "    J_history = []\n",
        "\n",
        "    for i in range (iterations):\n",
        "        dj_db, dj_dw = compute_gradient_reg(X_mapped, y_train, w, b, lambda_)\n",
        "\n",
        "        # Update the parameters\n",
        "        w = w - alpha * dj_dw\n",
        "        b = b - alpha * dj_db\n",
        "\n",
        "        # Optionally, compute and record the cost\n",
        "        if i % 100 == 0 or i == iterations - 1:\n",
        "            cost = compute_cost_reg(X_mapped, y_train, w, b, lambda_)\n",
        "            J_history.append(cost)\n",
        "            print(f\"Iteration {i}: Cost {cost:.4f}\")\n",
        "\n",
        "    return w, b, J_history, None  # The last return value is None to match the expected unpacking\n",
        "\n",
        "\n",
        "\n",
        "w,b, J_history,_ = gradient_descent(X_mapped, y_train, initial_w, initial_b,\n",
        "                                    compute_cost_reg, compute_gradient_reg,\n",
        "                                    alpha, iterations, lambda_)\n"
      ],
      "metadata": {
        "id": "c5y3Nb9Z_SC4",
        "colab": {
          "base_uri": "https://localhost:8080/"
        },
        "outputId": "d992d427-6ede-4113-f51b-afae741bb768"
      },
      "execution_count": 73,
      "outputs": [
        {
          "output_type": "stream",
          "name": "stdout",
          "text": [
            "Iteration 0: Cost 0.7616\n",
            "Iteration 100: Cost 0.7015\n",
            "Iteration 200: Cost 0.6668\n",
            "Iteration 300: Cost 0.6466\n",
            "Iteration 400: Cost 0.6342\n",
            "Iteration 500: Cost 0.6261\n",
            "Iteration 600: Cost 0.6202\n",
            "Iteration 700: Cost 0.6156\n",
            "Iteration 800: Cost 0.6116\n",
            "Iteration 900: Cost 0.6080\n",
            "Iteration 1000: Cost 0.6046\n",
            "Iteration 1100: Cost 0.6014\n",
            "Iteration 1200: Cost 0.5983\n",
            "Iteration 1300: Cost 0.5952\n",
            "Iteration 1400: Cost 0.5923\n",
            "Iteration 1500: Cost 0.5894\n",
            "Iteration 1600: Cost 0.5865\n",
            "Iteration 1700: Cost 0.5838\n",
            "Iteration 1800: Cost 0.5810\n",
            "Iteration 1900: Cost 0.5784\n",
            "Iteration 2000: Cost 0.5758\n",
            "Iteration 2100: Cost 0.5732\n",
            "Iteration 2200: Cost 0.5707\n",
            "Iteration 2300: Cost 0.5682\n",
            "Iteration 2400: Cost 0.5658\n",
            "Iteration 2500: Cost 0.5634\n",
            "Iteration 2600: Cost 0.5610\n",
            "Iteration 2700: Cost 0.5587\n",
            "Iteration 2800: Cost 0.5565\n",
            "Iteration 2900: Cost 0.5542\n",
            "Iteration 3000: Cost 0.5521\n",
            "Iteration 3100: Cost 0.5499\n",
            "Iteration 3200: Cost 0.5478\n",
            "Iteration 3300: Cost 0.5458\n",
            "Iteration 3400: Cost 0.5437\n",
            "Iteration 3500: Cost 0.5417\n",
            "Iteration 3600: Cost 0.5398\n",
            "Iteration 3700: Cost 0.5378\n",
            "Iteration 3800: Cost 0.5359\n",
            "Iteration 3900: Cost 0.5341\n",
            "Iteration 4000: Cost 0.5322\n",
            "Iteration 4100: Cost 0.5304\n",
            "Iteration 4200: Cost 0.5286\n",
            "Iteration 4300: Cost 0.5269\n",
            "Iteration 4400: Cost 0.5252\n",
            "Iteration 4500: Cost 0.5235\n",
            "Iteration 4600: Cost 0.5218\n",
            "Iteration 4700: Cost 0.5202\n",
            "Iteration 4800: Cost 0.5185\n",
            "Iteration 4900: Cost 0.5169\n",
            "Iteration 5000: Cost 0.5154\n",
            "Iteration 5100: Cost 0.5138\n",
            "Iteration 5200: Cost 0.5123\n",
            "Iteration 5300: Cost 0.5108\n",
            "Iteration 5400: Cost 0.5093\n",
            "Iteration 5500: Cost 0.5079\n",
            "Iteration 5600: Cost 0.5065\n",
            "Iteration 5700: Cost 0.5051\n",
            "Iteration 5800: Cost 0.5037\n",
            "Iteration 5900: Cost 0.5023\n",
            "Iteration 6000: Cost 0.5009\n",
            "Iteration 6100: Cost 0.4996\n",
            "Iteration 6200: Cost 0.4983\n",
            "Iteration 6300: Cost 0.4970\n",
            "Iteration 6400: Cost 0.4957\n",
            "Iteration 6500: Cost 0.4945\n",
            "Iteration 6600: Cost 0.4932\n",
            "Iteration 6700: Cost 0.4920\n",
            "Iteration 6800: Cost 0.4908\n",
            "Iteration 6900: Cost 0.4896\n",
            "Iteration 7000: Cost 0.4885\n",
            "Iteration 7100: Cost 0.4873\n",
            "Iteration 7200: Cost 0.4862\n",
            "Iteration 7300: Cost 0.4850\n",
            "Iteration 7400: Cost 0.4839\n",
            "Iteration 7500: Cost 0.4828\n",
            "Iteration 7600: Cost 0.4817\n",
            "Iteration 7700: Cost 0.4807\n",
            "Iteration 7800: Cost 0.4796\n",
            "Iteration 7900: Cost 0.4786\n",
            "Iteration 8000: Cost 0.4776\n",
            "Iteration 8100: Cost 0.4765\n",
            "Iteration 8200: Cost 0.4755\n",
            "Iteration 8300: Cost 0.4745\n",
            "Iteration 8400: Cost 0.4736\n",
            "Iteration 8500: Cost 0.4726\n",
            "Iteration 8600: Cost 0.4717\n",
            "Iteration 8700: Cost 0.4707\n",
            "Iteration 8800: Cost 0.4698\n",
            "Iteration 8900: Cost 0.4689\n",
            "Iteration 9000: Cost 0.4680\n",
            "Iteration 9100: Cost 0.4671\n",
            "Iteration 9200: Cost 0.4662\n",
            "Iteration 9300: Cost 0.4653\n",
            "Iteration 9400: Cost 0.4644\n",
            "Iteration 9500: Cost 0.4636\n",
            "Iteration 9600: Cost 0.4627\n",
            "Iteration 9700: Cost 0.4619\n",
            "Iteration 9800: Cost 0.4611\n",
            "Iteration 9900: Cost 0.4603\n",
            "Iteration 9999: Cost 0.4595\n"
          ]
        }
      ]
    },
    {
      "cell_type": "code",
      "source": [
        "#plot decision boundary\n",
        "\n",
        "def plot_decision_boundary(weights, bias, data, labels):\n",
        "    x_min, x_max = data[:, 0].min() - 1, data[:, 0].max() + 1\n",
        "    y_min, y_max = data[:, 1].min() - 1, data[:, 1].max() + 1\n",
        "    step = 0.01\n",
        "\n",
        "    x_grid, y_grid = np.meshgrid(np.arange(x_min, x_max, step), np.arange(y_min, y_max, step))\n",
        "    feature_mapped_points = map_feature(x_grid.ravel(), y_grid.ravel())\n",
        "\n",
        "    predictions = sigmoid(np.dot(feature_mapped_points, weights) + bias)\n",
        "    predictions = predictions.reshape(x_grid.shape)\n",
        "\n",
        "    plt.contourf(x_grid, y_grid, predictions, levels=[0, 0.5, 1], colors=['#D0F4EA', '#FAD02E'], alpha=0.8)\n",
        "    plt.scatter(data[:, 0], data[:, 1], c=labels, edgecolors='k', cmap=plt.cm.Paired)\n",
        "    plt.xlabel('Feature 1')\n",
        "    plt.ylabel('Feature 2')\n",
        "    plt.title('Decision Boundary')\n",
        "    plt.show()\n",
        "\n",
        "#write your code\n",
        "\n",
        "\n",
        "\n",
        "\n"
      ],
      "metadata": {
        "id": "cqSOrJsTAf9p"
      },
      "execution_count": 80,
      "outputs": []
    },
    {
      "cell_type": "code",
      "source": [
        "plot_decision_boundary(w, b, X_mapped, y_train)"
      ],
      "metadata": {
        "id": "etir_m_AAyYC",
        "colab": {
          "base_uri": "https://localhost:8080/",
          "height": 472
        },
        "outputId": "cade93db-3540-4deb-a221-fba2b23c2439"
      },
      "execution_count": 81,
      "outputs": [
        {
          "output_type": "display_data",
          "data": {
            "text/plain": [
              "<Figure size 640x480 with 1 Axes>"
            ],
            "image/png": "[encoded data removed]"
          },
          "metadata": {}
        }
      ]
    },
    {
      "cell_type": "code",
      "source": [
        "#predict your training model\n",
        "def predict(X, w, b):\n",
        "  m,n=X.shape\n",
        "  p=np.zeros(m)\n",
        "  #write your code\n",
        "  z = X.dot(w) + b\n",
        "  predictions = sigmoid(z)\n",
        "\n",
        "  p = predictions >= 0.5\n",
        "\n",
        "\n",
        "\n",
        "\n",
        "\n",
        "\n",
        "\n",
        "  return p"
      ],
      "metadata": {
        "id": "MD2Dup4OA1ew"
      },
      "execution_count": 82,
      "outputs": []
    },
    {
      "cell_type": "code",
      "source": [
        "p = predict(X_mapped, w, b)\n",
        "\n",
        "print('Accuracy of training model: %f'%(np.mean(p == y_train) * 100))"
      ],
      "metadata": {
        "id": "TAhIPFIsBTjk",
        "colab": {
          "base_uri": "https://localhost:8080/"
        },
        "outputId": "4ab78719-1bf2-4c74-8f95-47a425eda185"
      },
      "execution_count": 83,
      "outputs": [
        {
          "output_type": "stream",
          "name": "stdout",
          "text": [
            "Accuracy of training model: 81.196581\n"
          ]
        }
      ]
    }
  ]
}